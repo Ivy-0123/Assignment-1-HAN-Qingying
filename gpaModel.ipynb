{
 "cells": [
  {
   "cell_type": "code",
   "execution_count": 33,
   "metadata": {},
   "outputs": [
    {
     "name": "stdout",
     "output_type": "stream",
     "text": [
      "–– .env-live ？ True\n",
      "–– JRJ_MODEL_REGISTRY_S3_BUCKET_NAME = 273-g4\n"
     ]
    }
   ],
   "source": [
    "from pathlib import Path\n",
    "from dotenv    import load_dotenv\n",
    "import os\n",
    "\n",
    "print(\"–– .env-live ？\", Path(\".env-live\").exists())\n",
    "load_dotenv(\".env-live\")\n",
    "print(\"–– JRJ_MODEL_REGISTRY_S3_BUCKET_NAME =\", \n",
    "      os.getenv(\"JRJ_MODEL_REGISTRY_S3_BUCKET_NAME\"))\n"
   ]
  },
  {
   "cell_type": "code",
   "execution_count": 34,
   "metadata": {
    "id": "xwFyEsosINqT"
   },
   "outputs": [],
   "source": [
    "import numpy as np\n",
    "import pandas as pd"
   ]
  },
  {
   "cell_type": "code",
   "execution_count": 35,
   "metadata": {},
   "outputs": [],
   "source": [
    "import warnings\n",
    "warnings.filterwarnings(\"ignore\")"
   ]
  },
  {
   "cell_type": "code",
   "execution_count": 36,
   "metadata": {},
   "outputs": [],
   "source": [
    "from functools import partial"
   ]
  },
  {
   "cell_type": "code",
   "execution_count": 37,
   "metadata": {},
   "outputs": [],
   "source": [
    "from dotenv import load_dotenv\n",
    "\n",
    "from pathlib import Path\n",
    "\n",
    "env_path = Path(\"../../.env-live\")\n",
    "# env_path = Path(\"../../.env-live-g1\")\n",
    "# env_path = Path(\"../../.env-live-g2\")\n",
    "# env_path = Path(\"../../.env-live-g3\")\n",
    "# env_path = Path(\"../../.env-live-g4\")\n",
    "# env_path = Path(\"../../.env-live-g5\")\n",
    "# env_path = Path(\"../../.env-live-g6\")\n",
    "\n",
    "\n",
    "if env_path.exists():\n",
    "    load_dotenv(dotenv_path=env_path)"
   ]
  },
  {
   "cell_type": "code",
   "execution_count": 38,
   "metadata": {},
   "outputs": [
    {
     "data": {
      "text/plain": [
       "'273-g4'"
      ]
     },
     "execution_count": 38,
     "metadata": {},
     "output_type": "execute_result"
    }
   ],
   "source": [
    "import os\n",
    "os.environ['JRJ_MODEL_REGISTRY_S3_BUCKET_NAME']"
   ]
  },
  {
   "cell_type": "code",
   "execution_count": 39,
   "metadata": {},
   "outputs": [],
   "source": [
    "from jrjModelRegistry import handleDashboard, jrjRouterModelRegistry\n",
    "from jrjModelRegistry.jrjModelRegistry import registerAJrjModel"
   ]
  },
  {
   "cell_type": "code",
   "execution_count": 40,
   "metadata": {
    "scrolled": true
   },
   "outputs": [
    {
     "data": {
      "text/html": [
       "<div>\n",
       "<style scoped>\n",
       "    .dataframe tbody tr th:only-of-type {\n",
       "        vertical-align: middle;\n",
       "    }\n",
       "\n",
       "    .dataframe tbody tr th {\n",
       "        vertical-align: top;\n",
       "    }\n",
       "\n",
       "    .dataframe thead th {\n",
       "        text-align: right;\n",
       "    }\n",
       "</style>\n",
       "<table border=\"1\" class=\"dataframe\">\n",
       "  <thead>\n",
       "    <tr style=\"text-align: right;\">\n",
       "      <th></th>\n",
       "      <th>GPA</th>\n",
       "      <th>GRE</th>\n",
       "    </tr>\n",
       "  </thead>\n",
       "  <tbody>\n",
       "    <tr>\n",
       "      <th>0</th>\n",
       "      <td>3.0</td>\n",
       "      <td>700</td>\n",
       "    </tr>\n",
       "    <tr>\n",
       "      <th>1</th>\n",
       "      <td>3.5</td>\n",
       "      <td>720</td>\n",
       "    </tr>\n",
       "    <tr>\n",
       "      <th>2</th>\n",
       "      <td>3.2</td>\n",
       "      <td>650</td>\n",
       "    </tr>\n",
       "    <tr>\n",
       "      <th>3</th>\n",
       "      <td>3.7</td>\n",
       "      <td>750</td>\n",
       "    </tr>\n",
       "    <tr>\n",
       "      <th>4</th>\n",
       "      <td>3.1</td>\n",
       "      <td>680</td>\n",
       "    </tr>\n",
       "    <tr>\n",
       "      <th>5</th>\n",
       "      <td>3.9</td>\n",
       "      <td>730</td>\n",
       "    </tr>\n",
       "    <tr>\n",
       "      <th>6</th>\n",
       "      <td>3.3</td>\n",
       "      <td>740</td>\n",
       "    </tr>\n",
       "    <tr>\n",
       "      <th>7</th>\n",
       "      <td>3.5</td>\n",
       "      <td>780</td>\n",
       "    </tr>\n",
       "    <tr>\n",
       "      <th>8</th>\n",
       "      <td>3.0</td>\n",
       "      <td>690</td>\n",
       "    </tr>\n",
       "    <tr>\n",
       "      <th>9</th>\n",
       "      <td>3.5</td>\n",
       "      <td>730</td>\n",
       "    </tr>\n",
       "    <tr>\n",
       "      <th>10</th>\n",
       "      <td>3.2</td>\n",
       "      <td>640</td>\n",
       "    </tr>\n",
       "    <tr>\n",
       "      <th>11</th>\n",
       "      <td>3.7</td>\n",
       "      <td>740</td>\n",
       "    </tr>\n",
       "    <tr>\n",
       "      <th>12</th>\n",
       "      <td>3.1</td>\n",
       "      <td>690</td>\n",
       "    </tr>\n",
       "    <tr>\n",
       "      <th>13</th>\n",
       "      <td>3.9</td>\n",
       "      <td>720</td>\n",
       "    </tr>\n",
       "    <tr>\n",
       "      <th>14</th>\n",
       "      <td>3.3</td>\n",
       "      <td>740</td>\n",
       "    </tr>\n",
       "    <tr>\n",
       "      <th>15</th>\n",
       "      <td>3.5</td>\n",
       "      <td>750</td>\n",
       "    </tr>\n",
       "    <tr>\n",
       "      <th>16</th>\n",
       "      <td>2.9</td>\n",
       "      <td>690</td>\n",
       "    </tr>\n",
       "    <tr>\n",
       "      <th>17</th>\n",
       "      <td>3.3</td>\n",
       "      <td>730</td>\n",
       "    </tr>\n",
       "    <tr>\n",
       "      <th>18</th>\n",
       "      <td>3.3</td>\n",
       "      <td>640</td>\n",
       "    </tr>\n",
       "    <tr>\n",
       "      <th>19</th>\n",
       "      <td>3.6</td>\n",
       "      <td>740</td>\n",
       "    </tr>\n",
       "    <tr>\n",
       "      <th>20</th>\n",
       "      <td>3.0</td>\n",
       "      <td>690</td>\n",
       "    </tr>\n",
       "    <tr>\n",
       "      <th>21</th>\n",
       "      <td>3.8</td>\n",
       "      <td>720</td>\n",
       "    </tr>\n",
       "    <tr>\n",
       "      <th>22</th>\n",
       "      <td>3.2</td>\n",
       "      <td>740</td>\n",
       "    </tr>\n",
       "    <tr>\n",
       "      <th>23</th>\n",
       "      <td>3.5</td>\n",
       "      <td>760</td>\n",
       "    </tr>\n",
       "  </tbody>\n",
       "</table>\n",
       "</div>"
      ],
      "text/plain": [
       "    GPA  GRE\n",
       "0   3.0  700\n",
       "1   3.5  720\n",
       "2   3.2  650\n",
       "3   3.7  750\n",
       "4   3.1  680\n",
       "5   3.9  730\n",
       "6   3.3  740\n",
       "7   3.5  780\n",
       "8   3.0  690\n",
       "9   3.5  730\n",
       "10  3.2  640\n",
       "11  3.7  740\n",
       "12  3.1  690\n",
       "13  3.9  720\n",
       "14  3.3  740\n",
       "15  3.5  750\n",
       "16  2.9  690\n",
       "17  3.3  730\n",
       "18  3.3  640\n",
       "19  3.6  740\n",
       "20  3.0  690\n",
       "21  3.8  720\n",
       "22  3.2  740\n",
       "23  3.5  760"
      ]
     },
     "execution_count": 40,
     "metadata": {},
     "output_type": "execute_result"
    }
   ],
   "source": [
    "import numpy as np\n",
    "import pandas as pd\n",
    "gpaDf =  pd.read_excel(\"https://www.dropbox.com/scl/fi/24jfn2u4rsn6e45bvzkrs/GPA.xlsx?rlkey=9ecqtc90bmntcsucdy8gzyt24&dl=1\")\n",
    "gpaDf"
   ]
  },
  {
   "cell_type": "code",
   "execution_count": 41,
   "metadata": {},
   "outputs": [
    {
     "name": "stdout",
     "output_type": "stream",
     "text": [
      "                            OLS Regression Results                            \n",
      "==============================================================================\n",
      "Dep. Variable:                    GPA   R-squared:                       0.274\n",
      "Model:                            OLS   Adj. R-squared:                  0.241\n",
      "Method:                 Least Squares   F-statistic:                     8.316\n",
      "Date:                Tue, 24 Jun 2025   Prob (F-statistic):            0.00862\n",
      "Time:                        00:28:16   Log-Likelihood:               -0.29776\n",
      "No. Observations:                  24   AIC:                             4.596\n",
      "Df Residuals:                      22   BIC:                             6.952\n",
      "Df Model:                           1                                         \n",
      "Covariance Type:            nonrobust                                         \n",
      "==============================================================================\n",
      "                 coef    std err          t      P>|t|      [0.025      0.975]\n",
      "------------------------------------------------------------------------------\n",
      "const          0.4256      1.024      0.416      0.682      -1.698       2.549\n",
      "GRE            0.0041      0.001      2.884      0.009       0.001       0.007\n",
      "==============================================================================\n",
      "Omnibus:                        1.633   Durbin-Watson:                   2.599\n",
      "Prob(Omnibus):                  0.442   Jarque-Bera (JB):                1.406\n",
      "Skew:                           0.458   Prob(JB):                        0.495\n",
      "Kurtosis:                       2.248   Cond. No.                     1.40e+04\n",
      "==============================================================================\n",
      "\n",
      "Notes:\n",
      "[1] Standard Errors assume that the covariance matrix of the errors is correctly specified.\n",
      "[2] The condition number is large, 1.4e+04. This might indicate that there are\n",
      "strong multicollinearity or other numerical problems.\n"
     ]
    }
   ],
   "source": [
    "# https://www.statsmodels.org/stable/index.html\n",
    "import statsmodels.api as sm\n",
    "# Your answer\n",
    "X = gpaDf[['GRE']]               \n",
    "y = gpaDf['GPA']               \n",
    "X = sm.add_constant(X)         \n",
    "gpaModelFit = sm.OLS(y, X).fit()  \n",
    "print(gpaModelFit.summary())     "
   ]
  },
  {
   "cell_type": "code",
   "execution_count": 42,
   "metadata": {},
   "outputs": [],
   "source": [
    "def gpaModelTransformer(dataForTransfer=None):\n",
    "    df = pd.DataFrame(dataForTransfer)\n",
    "    return sm.add_constant(df[['GRE']])"
   ]
  },
  {
   "cell_type": "code",
   "execution_count": 43,
   "metadata": {},
   "outputs": [],
   "source": [
    "def gpaModelPredictor(self, transformedData):\n",
    "    return self.predict(transformedData)"
   ]
  },
  {
   "cell_type": "code",
   "execution_count": 44,
   "metadata": {},
   "outputs": [],
   "source": [
    "gpaModelFit.transformer   = gpaModelTransformer\n",
    "gpaModelFit.mainPredictor = partial(gpaModelPredictor, gpaModelFit)"
   ]
  },
  {
   "cell_type": "code",
   "execution_count": 45,
   "metadata": {},
   "outputs": [
    {
     "data": {
      "text/plain": [
       "{'modelName': 'HAN_261301308_LRModel_GPA',\n",
       " 'version': '1.0.2',\n",
       " 'params': {'const': 0.4256249999999966, 'GRE': 0.00412499999999999},\n",
       " 'libraryMetadata': {'r_squared': 0.27430730478589427},\n",
       " 'sampleData': {'dataForTransfer': [{'GRE': 710}]}}"
      ]
     },
     "execution_count": 45,
     "metadata": {},
     "output_type": "execute_result"
    }
   ],
   "source": [
    "gpaMetadata = {\n",
    "    \"modelName\":       \"HAN_261301308_LRModel_GPA\",\n",
    "    \"version\":\"1.0.2\",\n",
    "    \"params\":          gpaModelFit.params.to_dict(),\n",
    "    \"libraryMetadata\": {\"r_squared\": float(gpaModelFit.rsquared)},\n",
    "    \"sampleData\": {\n",
    "        \"dataForTransfer\": [\n",
    "            {\"GRE\": 710}\n",
    "        ]\n",
    "    }\n",
    "}\n",
    "gpaMetadata"
   ]
  },
  {
   "cell_type": "code",
   "execution_count": 46,
   "metadata": {},
   "outputs": [
    {
     "name": "stdout",
     "output_type": "stream",
     "text": [
      "✅ Uploaded encrypted ZIP to s3://273-g4/HAN_261301308_LRModel_GPA__1.0.2.pkl.zip\n"
     ]
    },
    {
     "data": {
      "text/plain": [
       "{'_id': '685a296b0520cbda3153f835',\n",
       " 'modelName': 'HAN_261301308_LRModel_GPA',\n",
       " 'version': '1.0.2',\n",
       " 'params': {'const': 0.4256249999999966, 'GRE': 0.00412499999999999},\n",
       " 'libraryMetadata': {'r_squared': 0.27430730478589427},\n",
       " 'sampleData': {'dataForTransfer': [{'GRE': 710}]},\n",
       " 'modelType': 'model',\n",
       " 'keepLastOnly': False,\n",
       " 'modelSizeBytes': 6826,\n",
       " 'zippedModelSizeBytes': 3182,\n",
       " 's3Url': '273-g4/HAN_261301308_LRModel_GPA__1.0.2.pkl.zip',\n",
       " 'createdAt': '2025-06-24T04:28:27.866Z',\n",
       " 'updatedAt': '2025-06-24T04:28:27.866Z'}"
      ]
     },
     "execution_count": 46,
     "metadata": {},
     "output_type": "execute_result"
    }
   ],
   "source": [
    "registerAJrjModel(gpaModelFit, gpaMetadata)"
   ]
  },
  {
   "cell_type": "code",
   "execution_count": null,
   "metadata": {},
   "outputs": [],
   "source": []
  },
  {
   "cell_type": "markdown",
   "metadata": {
    "id": "70sdSooaXIP6"
   },
   "source": [
    "\n",
    "\n",
    "\n",
    "\n",
    "\n",
    "\n",
    "\n",
    "\n",
    "\n"
   ]
  }
 ],
 "metadata": {
  "colab": {
   "private_outputs": true,
   "provenance": []
  },
  "kernelspec": {
   "display_name": "Python 3 (ipykernel)",
   "language": "python",
   "name": "python3"
  },
  "language_info": {
   "codemirror_mode": {
    "name": "ipython",
    "version": 3
   },
   "file_extension": ".py",
   "mimetype": "text/x-python",
   "name": "python",
   "nbconvert_exporter": "python",
   "pygments_lexer": "ipython3",
   "version": "3.13.3"
  }
 },
 "nbformat": 4,
 "nbformat_minor": 4
}
