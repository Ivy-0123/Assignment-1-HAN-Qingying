{
 "cells": [
  {
   "cell_type": "code",
   "execution_count": 1,
   "metadata": {},
   "outputs": [
    {
     "name": "stdout",
     "output_type": "stream",
     "text": [
      "–– .env-live ？ True\n",
      "–– JRJ_MODEL_REGISTRY_S3_BUCKET_NAME = 273-g4\n"
     ]
    }
   ],
   "source": [
    "from pathlib import Path\n",
    "from dotenv    import load_dotenv\n",
    "import os\n",
    "\n",
    "print(\"–– .env-live ？\", Path(\".env-live\").exists())\n",
    "load_dotenv(\".env-live\")\n",
    "print(\"–– JRJ_MODEL_REGISTRY_S3_BUCKET_NAME =\", \n",
    "      os.getenv(\"JRJ_MODEL_REGISTRY_S3_BUCKET_NAME\"))\n"
   ]
  },
  {
   "cell_type": "code",
   "execution_count": 2,
   "metadata": {
    "id": "xwFyEsosINqT"
   },
   "outputs": [],
   "source": [
    "import numpy as np\n",
    "import pandas as pd"
   ]
  },
  {
   "cell_type": "code",
   "execution_count": 3,
   "metadata": {},
   "outputs": [],
   "source": [
    "import warnings\n",
    "warnings.filterwarnings(\"ignore\")"
   ]
  },
  {
   "cell_type": "code",
   "execution_count": 4,
   "metadata": {},
   "outputs": [],
   "source": [
    "from functools import partial"
   ]
  },
  {
   "cell_type": "code",
   "execution_count": 5,
   "metadata": {},
   "outputs": [],
   "source": [
    "from dotenv import load_dotenv\n",
    "\n",
    "from pathlib import Path\n",
    "\n",
    "env_path = Path(\"../../.env-live\")\n",
    "# env_path = Path(\"../../.env-live-g1\")\n",
    "# env_path = Path(\"../../.env-live-g2\")\n",
    "# env_path = Path(\"../../.env-live-g3\")\n",
    "# env_path = Path(\"../../.env-live-g4\")\n",
    "# env_path = Path(\"../../.env-live-g5\")\n",
    "# env_path = Path(\"../../.env-live-g6\")\n",
    "\n",
    "\n",
    "if env_path.exists():\n",
    "    load_dotenv(dotenv_path=env_path)"
   ]
  },
  {
   "cell_type": "code",
   "execution_count": 6,
   "metadata": {},
   "outputs": [
    {
     "data": {
      "text/plain": [
       "'273-g4'"
      ]
     },
     "execution_count": 6,
     "metadata": {},
     "output_type": "execute_result"
    }
   ],
   "source": [
    "import os\n",
    "os.environ['JRJ_MODEL_REGISTRY_S3_BUCKET_NAME']"
   ]
  },
  {
   "cell_type": "code",
   "execution_count": 7,
   "metadata": {},
   "outputs": [
    {
     "name": "stdout",
     "output_type": "stream",
     "text": [
      "Pinged your deployment. You successfully connected to MongoDB!\n"
     ]
    }
   ],
   "source": [
    "from jrjModelRegistry import handleDashboard, jrjRouterModelRegistry\n",
    "from jrjModelRegistry.jrjModelRegistry import registerAJrjModel"
   ]
  },
  {
   "cell_type": "code",
   "execution_count": 8,
   "metadata": {
    "scrolled": true
   },
   "outputs": [
    {
     "data": {
      "text/html": [
       "<div>\n",
       "<style scoped>\n",
       "    .dataframe tbody tr th:only-of-type {\n",
       "        vertical-align: middle;\n",
       "    }\n",
       "\n",
       "    .dataframe tbody tr th {\n",
       "        vertical-align: top;\n",
       "    }\n",
       "\n",
       "    .dataframe thead th {\n",
       "        text-align: right;\n",
       "    }\n",
       "</style>\n",
       "<table border=\"1\" class=\"dataframe\">\n",
       "  <thead>\n",
       "    <tr style=\"text-align: right;\">\n",
       "      <th></th>\n",
       "      <th>Time</th>\n",
       "      <th>Miles</th>\n",
       "      <th>Load</th>\n",
       "      <th>Speed</th>\n",
       "      <th>Oil</th>\n",
       "    </tr>\n",
       "  </thead>\n",
       "  <tbody>\n",
       "    <tr>\n",
       "      <th>0</th>\n",
       "      <td>7.9</td>\n",
       "      <td>42.8</td>\n",
       "      <td>19</td>\n",
       "      <td>46</td>\n",
       "      <td>15</td>\n",
       "    </tr>\n",
       "    <tr>\n",
       "      <th>1</th>\n",
       "      <td>0.9</td>\n",
       "      <td>98.5</td>\n",
       "      <td>25</td>\n",
       "      <td>46</td>\n",
       "      <td>29</td>\n",
       "    </tr>\n",
       "    <tr>\n",
       "      <th>2</th>\n",
       "      <td>8.5</td>\n",
       "      <td>43.4</td>\n",
       "      <td>21</td>\n",
       "      <td>64</td>\n",
       "      <td>14</td>\n",
       "    </tr>\n",
       "    <tr>\n",
       "      <th>3</th>\n",
       "      <td>1.3</td>\n",
       "      <td>110.7</td>\n",
       "      <td>27</td>\n",
       "      <td>60</td>\n",
       "      <td>26</td>\n",
       "    </tr>\n",
       "    <tr>\n",
       "      <th>4</th>\n",
       "      <td>1.4</td>\n",
       "      <td>102.3</td>\n",
       "      <td>28</td>\n",
       "      <td>51</td>\n",
       "      <td>17</td>\n",
       "    </tr>\n",
       "  </tbody>\n",
       "</table>\n",
       "</div>"
      ],
      "text/plain": [
       "   Time  Miles  Load  Speed  Oil\n",
       "0   7.9   42.8    19     46   15\n",
       "1   0.9   98.5    25     46   29\n",
       "2   8.5   43.4    21     64   14\n",
       "3   1.3  110.7    27     60   26\n",
       "4   1.4  102.3    28     51   17"
      ]
     },
     "execution_count": 8,
     "metadata": {},
     "output_type": "execute_result"
    }
   ],
   "source": [
    "import numpy as np\n",
    "import pandas as pd\n",
    "engineDf =  pd.read_excel(\"https://www.dropbox.com/scl/fi/dcoz9yw3f8yywtzy82f4z/Engine.xlsx?rlkey=n53hfjjsrddywktksj156jra5&dl=1\")\n",
    "engineDf.head()"
   ]
  },
  {
   "cell_type": "code",
   "execution_count": 9,
   "metadata": {},
   "outputs": [
    {
     "name": "stdout",
     "output_type": "stream",
     "text": [
      "                            OLS Regression Results                            \n",
      "==============================================================================\n",
      "Dep. Variable:                   Time   R-squared:                       0.910\n",
      "Model:                            OLS   Adj. R-squared:                  0.892\n",
      "Method:                 Least Squares   F-statistic:                     50.47\n",
      "Date:                Mon, 23 Jun 2025   Prob (F-statistic):           3.58e-10\n",
      "Time:                        23:56:06   Log-Likelihood:                -27.456\n",
      "No. Observations:                  25   AIC:                             64.91\n",
      "Df Residuals:                      20   BIC:                             71.01\n",
      "Df Model:                           4                                         \n",
      "Covariance Type:            nonrobust                                         \n",
      "==============================================================================\n",
      "                 coef    std err          t      P>|t|      [0.025      0.975]\n",
      "------------------------------------------------------------------------------\n",
      "const         13.4343      2.192      6.128      0.000       8.861      18.008\n",
      "Miles         -0.0896      0.012     -7.385      0.000      -0.115      -0.064\n",
      "Load          -0.0732      0.091     -0.806      0.429      -0.262       0.116\n",
      "Speed          0.0048      0.029      0.164      0.871      -0.056       0.065\n",
      "Oil           -0.0297      0.039     -0.755      0.459      -0.112       0.052\n",
      "==============================================================================\n",
      "Omnibus:                        1.355   Durbin-Watson:                   1.538\n",
      "Prob(Omnibus):                  0.508   Jarque-Bera (JB):                0.938\n",
      "Skew:                           0.116   Prob(JB):                        0.626\n",
      "Kurtosis:                       2.080   Cond. No.                     1.30e+03\n",
      "==============================================================================\n",
      "\n",
      "Notes:\n",
      "[1] Standard Errors assume that the covariance matrix of the errors is correctly specified.\n",
      "[2] The condition number is large, 1.3e+03. This might indicate that there are\n",
      "strong multicollinearity or other numerical problems.\n"
     ]
    }
   ],
   "source": [
    "import statsmodels.api as sm\n",
    "import pandas as pd\n",
    "\n",
    "x = engineDf[['Miles', 'Load', 'Speed', 'Oil']]\n",
    "y = engineDf['Time']\n",
    "x = sm.add_constant(x)\n",
    "timeModelFit = sm.OLS(y, x).fit()\n",
    "print(timeModelFit.summary())"
   ]
  },
  {
   "cell_type": "code",
   "execution_count": 18,
   "metadata": {},
   "outputs": [],
   "source": [
    "def timeModelTransformer(dataForTransfer=None):\n",
    "    import pandas as pd\n",
    "    import statsmodels.api as sm\n",
    "    df = pd.DataFrame(dataForTransfer)\n",
    "    return sm.add_constant(df[['Miles', 'Load', 'Speed', 'Oil']])"
   ]
  },
  {
   "cell_type": "code",
   "execution_count": 11,
   "metadata": {},
   "outputs": [],
   "source": [
    "def timeModelPredictor(self, transformedData):\n",
    "    return self.predict(transformedData)"
   ]
  },
  {
   "cell_type": "code",
   "execution_count": 12,
   "metadata": {},
   "outputs": [],
   "source": [
    "timeModelFit.transformer   = timeModelTransformer\n",
    "timeModelFit.mainPredictor = partial(timeModelPredictor, timeModelFit)"
   ]
  },
  {
   "cell_type": "code",
   "execution_count": 13,
   "metadata": {},
   "outputs": [],
   "source": [
    "timeSample = {\n",
    "    \"Miles\": 60000,\n",
    "    \"Load\" : 22,\n",
    "    \"Speed\": 57,\n",
    "    \"Oil\"  : 18\n",
    "}"
   ]
  },
  {
   "cell_type": "code",
   "execution_count": 16,
   "metadata": {},
   "outputs": [
    {
     "data": {
      "text/plain": [
       "{'modelName': 'HAN_261301308_LRModel_Time',\n",
       " 'version': '1.0.1',\n",
       " 'params': {'const': 13.43427859369053,\n",
       "  'Miles': -0.08956351589285624,\n",
       "  'Load': -0.0731789181849201,\n",
       "  'Speed': 0.004752681999606277,\n",
       "  'Oil': -0.02968577887538078},\n",
       " 'libraryMetadata': {'pvalues': {'const': 5.480673001338455e-06,\n",
       "   'Miles': 3.924300497908541e-07,\n",
       "   'Load': 0.42946636370534985,\n",
       "   'Speed': 0.8713741970876256,\n",
       "   'Oil': 0.4590420043279153},\n",
       "  'r_squared': 0.9098578312985557,\n",
       "  'adj_r_squared': 0.8918293975582668},\n",
       " 'sampleData': {'dataForTransfer': [{'Miles': 60000,\n",
       "    'Load': 22,\n",
       "    'Speed': 57,\n",
       "    'Oil': 18}]}}"
      ]
     },
     "execution_count": 16,
     "metadata": {},
     "output_type": "execute_result"
    }
   ],
   "source": [
    "timeMetadata = {\n",
    "    \"modelName\":       \"HAN_261301308_LRModel_Time\",\n",
    "    \"version\":\"1.0.1\",\n",
    "    \"params\":          timeModelFit.params.to_dict(),\n",
    "    \"libraryMetadata\": {\n",
    "        \"pvalues\":       timeModelFit.pvalues.to_dict(),\n",
    "        \"r_squared\":     float(timeModelFit.rsquared),\n",
    "        \"adj_r_squared\": float(timeModelFit.rsquared_adj)\n",
    "    },\n",
    "    \"sampleData\": {\n",
    "        \"dataForTransfer\": [ timeSample ]\n",
    "    }\n",
    "}\n",
    "timeMetadata"
   ]
  },
  {
   "cell_type": "code",
   "execution_count": 17,
   "metadata": {},
   "outputs": [
    {
     "name": "stdout",
     "output_type": "stream",
     "text": [
      "✅ Uploaded encrypted ZIP to s3://273-g4/HAN_261301308_LRModel_Time__1.0.1.pkl.zip\n"
     ]
    },
    {
     "data": {
      "text/plain": [
       "{'_id': '685a23be4a9dc243c214e2d2',\n",
       " 'modelName': 'HAN_261301308_LRModel_Time',\n",
       " 'version': '1.0.1',\n",
       " 'params': {'const': 13.43427859369053,\n",
       "  'Miles': -0.08956351589285624,\n",
       "  'Load': -0.0731789181849201,\n",
       "  'Speed': 0.004752681999606277,\n",
       "  'Oil': -0.02968577887538078},\n",
       " 'libraryMetadata': {'pvalues': {'const': 5.480673001338455e-06,\n",
       "   'Miles': 3.924300497908541e-07,\n",
       "   'Load': 0.42946636370534985,\n",
       "   'Speed': 0.8713741970876256,\n",
       "   'Oil': 0.4590420043279153},\n",
       "  'r_squared': 0.9098578312985557,\n",
       "  'adj_r_squared': 0.8918293975582668},\n",
       " 'sampleData': {'dataForTransfer': [{'Miles': 60000,\n",
       "    'Load': 22,\n",
       "    'Speed': 57,\n",
       "    'Oil': 18}]},\n",
       " 'modelType': 'model',\n",
       " 'keepLastOnly': False,\n",
       " 'modelSizeBytes': 9138,\n",
       " 'zippedModelSizeBytes': 4688,\n",
       " 's3Url': '273-g4/HAN_261301308_LRModel_Time__1.0.1.pkl.zip',\n",
       " 'createdAt': '2025-06-24T04:04:14.300Z',\n",
       " 'updatedAt': '2025-06-24T04:04:14.300Z'}"
      ]
     },
     "execution_count": 17,
     "metadata": {},
     "output_type": "execute_result"
    }
   ],
   "source": [
    "registerAJrjModel(timeModelFit, timeMetadata)"
   ]
  },
  {
   "cell_type": "code",
   "execution_count": null,
   "metadata": {},
   "outputs": [],
   "source": []
  },
  {
   "cell_type": "markdown",
   "metadata": {
    "id": "70sdSooaXIP6"
   },
   "source": [
    "\n",
    "\n",
    "\n",
    "\n",
    "\n",
    "\n",
    "\n",
    "\n",
    "\n"
   ]
  }
 ],
 "metadata": {
  "colab": {
   "private_outputs": true,
   "provenance": []
  },
  "kernelspec": {
   "display_name": "Python 3 (ipykernel)",
   "language": "python",
   "name": "python3"
  },
  "language_info": {
   "codemirror_mode": {
    "name": "ipython",
    "version": 3
   },
   "file_extension": ".py",
   "mimetype": "text/x-python",
   "name": "python",
   "nbconvert_exporter": "python",
   "pygments_lexer": "ipython3",
   "version": "3.13.3"
  }
 },
 "nbformat": 4,
 "nbformat_minor": 4
}
